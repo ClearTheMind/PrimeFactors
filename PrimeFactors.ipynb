{
 "cells": [
  {
   "cell_type": "code",
   "execution_count": 1,
   "metadata": {},
   "outputs": [
    {
     "data": {
      "text/plain": [
       "[3, 5, 5, 7]"
      ]
     },
     "execution_count": 1,
     "metadata": {},
     "output_type": "execute_result"
    }
   ],
   "source": [
    "def prime_factors(n):\n",
    "    prime_list = []\n",
    "    x = 2\n",
    "    while x <= n:\n",
    "        if n % x == 0:\n",
    "            prime_list.append(x)\n",
    "            n = n/x\n",
    "            x = 2\n",
    "        else:\n",
    "            x += 1\n",
    "    return prime_list\n",
    "\n",
    "prime_factors(525)"
   ]
  },
  {
   "cell_type": "code",
   "execution_count": null,
   "metadata": {},
   "outputs": [],
   "source": [
    "def prime_factors_dict(n):\n",
    "    prime_dict = dict()\n",
    "    x = 2\n",
    "    while x <= n:\n",
    "        if n % x == 0:\n",
    "            if x in prime_dict:\n",
    "                prime_dict[x] += 1\n",
    "            else:\n",
    "                prime_dict[x] = 1\n",
    "            n = n/x\n",
    "        else:\n",
    "            x += 1\n",
    "    return prime_dict\n",
    "\n",
    "def gcd(ain,bin):\n",
    "    a,b = map(prime_factors_dict,[ain,bin])\n",
    "    result = dict()\n",
    "    for key in b:\n",
    "        if key in a:\n",
    "            result[key] = min(a[key],b[key])\n",
    "    answer = 1\n",
    "    for key in result:\n",
    "        answer *= key**result[key]\n",
    "    return answer"
   ]
  }
 ],
 "metadata": {
  "kernelspec": {
   "display_name": "Python 3",
   "language": "python",
   "name": "python3"
  },
  "language_info": {
   "codemirror_mode": {
    "name": "ipython",
    "version": 3
   },
   "file_extension": ".py",
   "mimetype": "text/x-python",
   "name": "python",
   "nbconvert_exporter": "python",
   "pygments_lexer": "ipython3",
   "version": "3.7.6"
  }
 },
 "nbformat": 4,
 "nbformat_minor": 4
}
